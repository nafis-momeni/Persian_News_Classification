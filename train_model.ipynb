{
  "cells": [
    {
      "cell_type": "code",
      "execution_count": 10,
      "metadata": {
        "colab": {
          "base_uri": "https://localhost:8080/"
        },
        "id": "x0PDM83bOXOA",
        "outputId": "f8aa7a2c-c23c-4050-dbaa-5d1fb1ff073b"
      },
      "outputs": [
        {
          "output_type": "stream",
          "name": "stdout",
          "text": [
            "Looking in indexes: https://pypi.org/simple, https://us-python.pkg.dev/colab-wheels/public/simple/\n",
            "Requirement already satisfied: transformers in /usr/local/lib/python3.10/dist-packages (4.30.2)\n",
            "Requirement already satisfied: accelerate in /usr/local/lib/python3.10/dist-packages (0.20.3)\n",
            "Requirement already satisfied: filelock in /usr/local/lib/python3.10/dist-packages (from transformers) (3.12.2)\n",
            "Requirement already satisfied: huggingface-hub<1.0,>=0.14.1 in /usr/local/lib/python3.10/dist-packages (from transformers) (0.15.1)\n",
            "Requirement already satisfied: numpy>=1.17 in /usr/local/lib/python3.10/dist-packages (from transformers) (1.22.4)\n",
            "Requirement already satisfied: packaging>=20.0 in /usr/local/lib/python3.10/dist-packages (from transformers) (23.1)\n",
            "Requirement already satisfied: pyyaml>=5.1 in /usr/local/lib/python3.10/dist-packages (from transformers) (6.0)\n",
            "Requirement already satisfied: regex!=2019.12.17 in /usr/local/lib/python3.10/dist-packages (from transformers) (2022.10.31)\n",
            "Requirement already satisfied: requests in /usr/local/lib/python3.10/dist-packages (from transformers) (2.27.1)\n",
            "Requirement already satisfied: tokenizers!=0.11.3,<0.14,>=0.11.1 in /usr/local/lib/python3.10/dist-packages (from transformers) (0.13.3)\n",
            "Requirement already satisfied: safetensors>=0.3.1 in /usr/local/lib/python3.10/dist-packages (from transformers) (0.3.1)\n",
            "Requirement already satisfied: tqdm>=4.27 in /usr/local/lib/python3.10/dist-packages (from transformers) (4.65.0)\n",
            "Requirement already satisfied: psutil in /usr/local/lib/python3.10/dist-packages (from accelerate) (5.9.5)\n",
            "Requirement already satisfied: torch>=1.6.0 in /usr/local/lib/python3.10/dist-packages (from accelerate) (2.0.1+cu118)\n",
            "Requirement already satisfied: fsspec in /usr/local/lib/python3.10/dist-packages (from huggingface-hub<1.0,>=0.14.1->transformers) (2023.6.0)\n",
            "Requirement already satisfied: typing-extensions>=3.7.4.3 in /usr/local/lib/python3.10/dist-packages (from huggingface-hub<1.0,>=0.14.1->transformers) (4.6.3)\n",
            "Requirement already satisfied: sympy in /usr/local/lib/python3.10/dist-packages (from torch>=1.6.0->accelerate) (1.11.1)\n",
            "Requirement already satisfied: networkx in /usr/local/lib/python3.10/dist-packages (from torch>=1.6.0->accelerate) (3.1)\n",
            "Requirement already satisfied: jinja2 in /usr/local/lib/python3.10/dist-packages (from torch>=1.6.0->accelerate) (3.1.2)\n",
            "Requirement already satisfied: triton==2.0.0 in /usr/local/lib/python3.10/dist-packages (from torch>=1.6.0->accelerate) (2.0.0)\n",
            "Requirement already satisfied: cmake in /usr/local/lib/python3.10/dist-packages (from triton==2.0.0->torch>=1.6.0->accelerate) (3.25.2)\n",
            "Requirement already satisfied: lit in /usr/local/lib/python3.10/dist-packages (from triton==2.0.0->torch>=1.6.0->accelerate) (16.0.6)\n",
            "Requirement already satisfied: urllib3<1.27,>=1.21.1 in /usr/local/lib/python3.10/dist-packages (from requests->transformers) (1.26.16)\n",
            "Requirement already satisfied: certifi>=2017.4.17 in /usr/local/lib/python3.10/dist-packages (from requests->transformers) (2023.5.7)\n",
            "Requirement already satisfied: charset-normalizer~=2.0.0 in /usr/local/lib/python3.10/dist-packages (from requests->transformers) (2.0.12)\n",
            "Requirement already satisfied: idna<4,>=2.5 in /usr/local/lib/python3.10/dist-packages (from requests->transformers) (3.4)\n",
            "Requirement already satisfied: MarkupSafe>=2.0 in /usr/local/lib/python3.10/dist-packages (from jinja2->torch>=1.6.0->accelerate) (2.1.3)\n",
            "Requirement already satisfied: mpmath>=0.19 in /usr/local/lib/python3.10/dist-packages (from sympy->torch>=1.6.0->accelerate) (1.3.0)\n"
          ]
        }
      ],
      "source": [
        "pip install transformers accelerate -U"
      ]
    },
    {
      "cell_type": "code",
      "execution_count": 11,
      "metadata": {
        "id": "1acU1GZrOXOE"
      },
      "outputs": [],
      "source": [
        "from transformers import AutoTokenizer, AutoModelForSequenceClassification, Trainer, TrainingArguments, EarlyStoppingCallback\n",
        "import torch\n",
        "import pandas as pd\n",
        "import numpy as np\n",
        "from sklearn.model_selection import train_test_split\n",
        "from sklearn.metrics import accuracy_score, f1_score, confusion_matrix\n"
      ]
    },
    {
      "cell_type": "markdown",
      "source": [
        "## Load Data"
      ],
      "metadata": {
        "id": "V-gqmJ_VH-Ji"
      }
    },
    {
      "cell_type": "code",
      "source": [
        "from google.colab import drive\n",
        "\n",
        "drive.mount('/content/drive')\n",
        "data= pd.read_csv('/content/drive/MyDrive/IRproject/data.csv')\n",
        "\n",
        "# Split the dataset into training and validation sets\n",
        "train_texts, val_texts, train_labels, val_labels = train_test_split(data['text'], data['label'], test_size=0.2, random_state=42)"
      ],
      "metadata": {
        "colab": {
          "base_uri": "https://localhost:8080/"
        },
        "id": "pzG6NC0MOhjd",
        "outputId": "52eff820-a415-4456-f26c-8c5640385ce5"
      },
      "execution_count": 12,
      "outputs": [
        {
          "output_type": "stream",
          "name": "stdout",
          "text": [
            "Drive already mounted at /content/drive; to attempt to forcibly remount, call drive.mount(\"/content/drive\", force_remount=True).\n"
          ]
        }
      ]
    },
    {
      "cell_type": "markdown",
      "source": [
        "## Tokenize"
      ],
      "metadata": {
        "id": "kryo0rS_H0ug"
      }
    },
    {
      "cell_type": "code",
      "source": [
        "# Load the tokenizer\n",
        "tokenizer = AutoTokenizer.from_pretrained('HooshvareLab/bert-fa-base-uncased-clf-persiannews')\n",
        "\n",
        "def tokenize_texts(tokenizer, texts):\n",
        "    encodings = tokenizer(texts, truncation=True, padding=True, max_length=128)\n",
        "    return encodings\n",
        "\n",
        "# Tokenize the texts\n",
        "train_encodings = tokenize_texts(tokenizer, train_texts.tolist())\n",
        "val_encodings = tokenize_texts(tokenizer, val_texts.tolist())\n"
      ],
      "metadata": {
        "id": "ESnF4bGfUDpy"
      },
      "execution_count": 13,
      "outputs": []
    },
    {
      "cell_type": "markdown",
      "source": [
        "## PyTorch datasets"
      ],
      "metadata": {
        "id": "u3K_lahQIFba"
      }
    },
    {
      "cell_type": "code",
      "execution_count": 14,
      "metadata": {
        "id": "eAZIWWd_OXOF"
      },
      "outputs": [],
      "source": [
        "# Create PyTorch datasets\n",
        "class MyDataset(torch.utils.data.Dataset):\n",
        "    def __init__(self, encodings, labels):\n",
        "        self.encodings = encodings\n",
        "        self.labels = labels\n",
        "\n",
        "    def __getitem__(self, idx):\n",
        "        item = {key: torch.tensor(val[idx]) for key, val in self.encodings.items()}\n",
        "        item['labels'] = torch.tensor(self.labels[idx])\n",
        "        return item\n",
        "\n",
        "    def __len__(self):\n",
        "        return len(self.labels)\n"
      ]
    },
    {
      "cell_type": "code",
      "source": [
        "train_dataset = MyDataset(train_encodings, train_labels.tolist())\n",
        "val_dataset = MyDataset(val_encodings, val_labels.tolist())"
      ],
      "metadata": {
        "id": "sQG5m4nLUHPz"
      },
      "execution_count": 15,
      "outputs": []
    },
    {
      "cell_type": "markdown",
      "source": [
        "## training arguments"
      ],
      "metadata": {
        "id": "Fbqfw3qpIOC0"
      }
    },
    {
      "cell_type": "code",
      "execution_count": 16,
      "metadata": {
        "colab": {
          "base_uri": "https://localhost:8080/"
        },
        "id": "o1Si-keeOXOG",
        "outputId": "856d378b-7bc6-4f20-b87c-6064befc833b"
      },
      "outputs": [
        {
          "output_type": "stream",
          "name": "stderr",
          "text": [
            "Some weights of BertForSequenceClassification were not initialized from the model checkpoint at HooshvareLab/bert-fa-base-uncased-clf-persiannews and are newly initialized because the shapes did not match:\n",
            "- classifier.weight: found shape torch.Size([8, 768]) in the checkpoint and torch.Size([7, 768]) in the model instantiated\n",
            "- classifier.bias: found shape torch.Size([8]) in the checkpoint and torch.Size([7]) in the model instantiated\n",
            "You should probably TRAIN this model on a down-stream task to be able to use it for predictions and inference.\n"
          ]
        }
      ],
      "source": [
        "# Load the model\n",
        "model = AutoModelForSequenceClassification.from_pretrained('HooshvareLab/bert-fa-base-uncased-clf-persiannews', num_labels=7, ignore_mismatched_sizes=True)\n",
        "\n",
        "# Set up the training arguments\n",
        "training_args = TrainingArguments(\n",
        "    output_dir='/content/drive/MyDrive/IRproject/results',\n",
        "    num_train_epochs=3,\n",
        "    per_device_train_batch_size=8,\n",
        "    per_device_eval_batch_size=16,\n",
        "    learning_rate=2e-5,\n",
        "    warmup_steps=200,\n",
        "    weight_decay=0.01,\n",
        "    logging_dir='/content/drive/MyDrive/IRproject/logs',\n",
        "    logging_steps=100,\n",
        "    evaluation_strategy='epoch',\n",
        "    eval_steps=200,\n",
        "    save_strategy='epoch',\n",
        "    save_total_limit=1,\n",
        "    load_best_model_at_end=True,\n",
        ")\n",
        "\n"
      ]
    },
    {
      "cell_type": "markdown",
      "source": [
        "## Set trainer"
      ],
      "metadata": {
        "id": "-43WTuDUIW52"
      }
    },
    {
      "cell_type": "code",
      "execution_count": 17,
      "metadata": {
        "id": "_KUOHM9bOXOI"
      },
      "outputs": [],
      "source": [
        "device = torch.device(\"cuda\" if torch.cuda.is_available() else \"cpu\")\n",
        "model.to(device)\n",
        "\n",
        "# Evaluation metrics\n",
        "def compute_metrics(pred):\n",
        "    labels = pred.label_ids\n",
        "    preds = pred.predictions.argmax(-1)\n",
        "    accuracy = accuracy_score(labels, preds)\n",
        "    f1 = f1_score(labels, preds, average=\"weighted\")\n",
        "    return {\"accuracy\": accuracy, \"f1\": f1}\n",
        "\n",
        "trainer = Trainer(\n",
        "    model=model,\n",
        "    args=training_args,\n",
        "    train_dataset=train_dataset,\n",
        "    eval_dataset=val_dataset,\n",
        "    compute_metrics=compute_metrics,\n",
        "    callbacks=[EarlyStoppingCallback(early_stopping_patience=3)]\n",
        ")"
      ]
    },
    {
      "cell_type": "markdown",
      "source": [
        "# Train"
      ],
      "metadata": {
        "id": "kszzI2isIZoL"
      }
    },
    {
      "cell_type": "code",
      "execution_count": 18,
      "metadata": {
        "colab": {
          "base_uri": "https://localhost:8080/",
          "height": 259
        },
        "id": "74X3E4tJOXOI",
        "outputId": "1734563c-2b58-46f9-93b4-f54cc36c9e66"
      },
      "outputs": [
        {
          "output_type": "stream",
          "name": "stderr",
          "text": [
            "/usr/local/lib/python3.10/dist-packages/transformers/optimization.py:411: FutureWarning: This implementation of AdamW is deprecated and will be removed in a future version. Use the PyTorch implementation torch.optim.AdamW instead, or set `no_deprecation_warning=True` to disable this warning\n",
            "  warnings.warn(\n"
          ]
        },
        {
          "output_type": "display_data",
          "data": {
            "text/plain": [
              "<IPython.core.display.HTML object>"
            ],
            "text/html": [
              "\n",
              "    <div>\n",
              "      \n",
              "      <progress value='8961' max='8961' style='width:300px; height:20px; vertical-align: middle;'></progress>\n",
              "      [8961/8961 37:31, Epoch 3/3]\n",
              "    </div>\n",
              "    <table border=\"1\" class=\"dataframe\">\n",
              "  <thead>\n",
              " <tr style=\"text-align: left;\">\n",
              "      <th>Epoch</th>\n",
              "      <th>Training Loss</th>\n",
              "      <th>Validation Loss</th>\n",
              "      <th>Accuracy</th>\n",
              "      <th>F1</th>\n",
              "    </tr>\n",
              "  </thead>\n",
              "  <tbody>\n",
              "    <tr>\n",
              "      <td>1</td>\n",
              "      <td>0.534700</td>\n",
              "      <td>0.520951</td>\n",
              "      <td>0.844017</td>\n",
              "      <td>0.843797</td>\n",
              "    </tr>\n",
              "    <tr>\n",
              "      <td>2</td>\n",
              "      <td>0.344900</td>\n",
              "      <td>0.597471</td>\n",
              "      <td>0.856569</td>\n",
              "      <td>0.856143</td>\n",
              "    </tr>\n",
              "    <tr>\n",
              "      <td>3</td>\n",
              "      <td>0.220600</td>\n",
              "      <td>0.704682</td>\n",
              "      <td>0.865607</td>\n",
              "      <td>0.865496</td>\n",
              "    </tr>\n",
              "  </tbody>\n",
              "</table><p>"
            ]
          },
          "metadata": {}
        },
        {
          "output_type": "execute_result",
          "data": {
            "text/plain": [
              "TrainOutput(global_step=8961, training_loss=0.42254528511370043, metrics={'train_runtime': 2251.3675, 'train_samples_per_second': 31.842, 'train_steps_per_second': 3.98, 'total_flos': 4715688025958400.0, 'train_loss': 0.42254528511370043, 'epoch': 3.0})"
            ]
          },
          "metadata": {},
          "execution_count": 18
        }
      ],
      "source": [
        "trainer.train()"
      ]
    },
    {
      "cell_type": "code",
      "source": [
        "# trainer.evaluate()"
      ],
      "metadata": {
        "id": "AXYt_BvMOpRo"
      },
      "execution_count": 19,
      "outputs": []
    },
    {
      "cell_type": "markdown",
      "source": [
        "## Evaluation Metrics"
      ],
      "metadata": {
        "id": "8Vfsp9P2Iio9"
      }
    },
    {
      "cell_type": "code",
      "source": [
        "val_predictions = trainer.predict(val_dataset)\n",
        "val_predicted_labels = np.argmax(val_predictions.predictions, axis=1)\n",
        "val_true_labels = val_dataset[:][\"labels\"].numpy()\n",
        "\n",
        "val_accuracy = accuracy_score(val_true_labels, val_predicted_labels)\n",
        "val_f1 = f1_score(val_true_labels, val_predicted_labels, average=\"weighted\")\n",
        "val_cm = confusion_matrix(val_true_labels, val_predicted_labels)\n",
        "\n",
        "print(f\"Validation Accuracy: {val_accuracy}\")\n",
        "print(f\"Validation F1 Score: {val_f1}\")\n",
        "# print(\"Validation Confusion Matrix:\")\n",
        "# print(val_cm)"
      ],
      "metadata": {
        "id": "S-1jB5ZsOq7s",
        "colab": {
          "base_uri": "https://localhost:8080/",
          "height": 52
        },
        "outputId": "5f0522a8-3702-42c6-90a6-a17683adf26c"
      },
      "execution_count": 20,
      "outputs": [
        {
          "output_type": "display_data",
          "data": {
            "text/plain": [
              "<IPython.core.display.HTML object>"
            ],
            "text/html": []
          },
          "metadata": {}
        },
        {
          "output_type": "stream",
          "name": "stdout",
          "text": [
            "Validation Accuracy: 0.8440167364016736\n",
            "Validation F1 Score: 0.8437967958669238\n"
          ]
        }
      ]
    },
    {
      "cell_type": "markdown",
      "source": [
        "## Confusion Matrix"
      ],
      "metadata": {
        "id": "jvDMiV3MImkD"
      }
    },
    {
      "cell_type": "code",
      "source": [
        "import matplotlib.pyplot as plt\n",
        "import seaborn as sns\n",
        "\n",
        "# Create the confusion matrix\n",
        "# cm = confusion_matrix(true_labels, predicted_labels)\n",
        "\n",
        "# Plot the confusion matrix\n",
        "plt.figure(figsize=(12, 10))\n",
        "sns.heatmap(val_cm, annot=True, fmt=\"d\", cmap=\"Blues\", cbar=False)\n",
        "\n",
        "# Customize the plot\n",
        "class_names = ['Beinolmelal', 'Eghtesadi', 'Ejtemaee', 'ElmiVaDaneshghai', 'FarhangHonarVaResane', 'Siasi', 'Varzeshi']\n",
        "\n",
        "tick_marks = np.arange(len(class_names))\n",
        "plt.xticks(tick_marks, class_names, rotation=90)\n",
        "plt.yticks(tick_marks, class_names, rotation=0)\n",
        "plt.xlabel(\"Predicted Label\")\n",
        "plt.ylabel(\"True Label\")\n",
        "plt.title(f\"Validation Confusion Matrix\\nAccuracy: {val_accuracy:.3f}, F1 Score: {val_f1:.3f}\")\n",
        "\n",
        "# Show the plot\n",
        "plt.show()\n"
      ],
      "metadata": {
        "id": "NFgNZp9agY4d",
        "colab": {
          "base_uri": "https://localhost:8080/",
          "height": 1000
        },
        "outputId": "1c277f12-dcb7-4d29-e518-61a744fd5fb6"
      },
      "execution_count": 21,
      "outputs": [
        {
          "output_type": "display_data",
          "data": {
            "text/plain": [
              "<Figure size 1200x1000 with 1 Axes>"
            ],
            "image/png": "[encoded data removed]"
          },
          "metadata": {}
        }
      ]
    },
    {
      "cell_type": "markdown",
      "source": [
        "# Save Trained Model"
      ],
      "metadata": {
        "id": "h_AvmxnMIusH"
      }
    },
    {
      "cell_type": "code",
      "source": [
        "output_dir = \"/content/drive/MyDrive/IRproject/saved_model\"\n",
        "model.save_pretrained(output_dir)\n",
        "tokenizer.save_pretrained(output_dir)"
      ],
      "metadata": {
        "id": "vBR1W8FQOrbY",
        "colab": {
          "base_uri": "https://localhost:8080/"
        },
        "outputId": "834e1839-55e6-4b20-e77e-40b2e509760d"
      },
      "execution_count": 22,
      "outputs": [
        {
          "output_type": "execute_result",
          "data": {
            "text/plain": [
              "('/content/drive/MyDrive/IRproject/saved_model/tokenizer_config.json',\n",
              " '/content/drive/MyDrive/IRproject/saved_model/special_tokens_map.json',\n",
              " '/content/drive/MyDrive/IRproject/saved_model/vocab.txt',\n",
              " '/content/drive/MyDrive/IRproject/saved_model/added_tokens.json',\n",
              " '/content/drive/MyDrive/IRproject/saved_model/tokenizer.json')"
            ]
          },
          "metadata": {},
          "execution_count": 22
        }
      ]
    },
    {
      "cell_type": "markdown",
      "source": [
        "# Test"
      ],
      "metadata": {
        "id": "e48aRvBoxb2v"
      }
    },
    {
      "cell_type": "code",
      "source": [
        "# model_path = \"/content/drive/MyDrive/IRproject/saved_model\"\n",
        "# tokenizer = AutoTokenizer.from_pretrained(model_path)\n",
        "# model = AutoModelForSequenceClassification.from_pretrained(model_path)"
      ],
      "metadata": {
        "id": "Wvah78HcRtZB"
      },
      "execution_count": 23,
      "outputs": []
    },
    {
      "cell_type": "code",
      "source": [
        "# data= pd.read_csv('/content/drive/MyDrive/IRproject/data.csv')\n",
        "# test_texts = data[\"text\"]\n",
        "# test_labels = data[\"label\"]\n",
        "\n",
        "# # Tokenize the new texts\n",
        "# test_encodings = tokenize_texts(tokenizer, test_texts.tolist())\n",
        "\n",
        "# # Create the PyTorch dataset\n",
        "# test_dataset = MyDataset(test_encodings, test_labels.tolist())\n",
        "\n",
        "# # Create a new trainer for evaluation\n",
        "# eval_trainer = Trainer(\n",
        "#     model=model,\n",
        "#     args=training_args,\n",
        "#     eval_dataset=test_dataset,\n",
        "#     compute_metrics=compute_metrics\n",
        "# )\n",
        "\n",
        "# # Evaluate the model\n",
        "# eval_results = eval_trainer.evaluate()\n",
        "\n",
        "# cm = confusion_matrix(eval_results.label_ids, eval_results.predictions.argmax(-1))\n",
        "\n",
        "# # Access the evaluation metrics\n",
        "# test_accuracy = eval_results[\"eval_accuracy\"]\n",
        "# test_f1 = eval_results[\"eval_f1\"]\n",
        "\n",
        "# print(f\"Test Accuracy: {test_accuracy}\")\n",
        "# print(f\"Test F1 Score: {test_f1}\")\n"
      ],
      "metadata": {
        "id": "9Gc3ie2BRuCp"
      },
      "execution_count": 24,
      "outputs": []
    },
    {
      "cell_type": "code",
      "source": [
        "# Create the confusion matrix\n",
        "# Make predictions on the test dataset\n",
        "# predictions = eval_trainer.predict(test_dataset)\n",
        "# predicted_labels = np.argmax(predictions.predictions, axis=1)\n",
        "# true_labels = test_dataset[:][\"labels\"].numpy()\n",
        "\n",
        "# # Calculate the confusion matrix\n",
        "# cm = confusion_matrix(true_labels, predicted_labels)"
      ],
      "metadata": {
        "id": "xcGpt6dNxI1C"
      },
      "execution_count": 25,
      "outputs": []
    },
    {
      "cell_type": "code",
      "source": [
        "# import matplotlib.pyplot as plt\n",
        "# import seaborn as sns\n",
        "# from sklearn.metrics import confusion_matrix\n",
        "\n",
        "\n",
        "# # Plot the confusion matrix\n",
        "# plt.figure(figsize=(10, 8))\n",
        "# sns.heatmap(cm, annot=True, fmt=\"d\", cmap=\"Blues\", cbar=False)\n",
        "\n",
        "# # Customize the plot\n",
        "# class_names = ['Beinolmelal', 'Eghtesadi', 'Ejtemaee', 'ElmiVaDaneshghai', 'FarhangHonarVaResane', 'Siasi', 'Varzeshi']  # Replace with your class labels\n",
        "\n",
        "# tick_marks = np.arange(len(class_names))\n",
        "# plt.xticks(tick_marks, class_names, rotation=90)\n",
        "# plt.yticks(tick_marks, class_names, rotation=0)\n",
        "# plt.xlabel(\"Predicted Label\")\n",
        "# plt.ylabel(\"True Label\")\n",
        "# plt.title(\"Test data Confusion Matrix\")\n",
        "\n",
        "# # Show the plot\n",
        "# plt.show()"
      ],
      "metadata": {
        "id": "hRfHSOCuw4w5"
      },
      "execution_count": 26,
      "outputs": []
    }
  ],
  "metadata": {
    "kernelspec": {
      "display_name": "Python 3",
      "name": "python3"
    },
    "language_info": {
      "name": "python",
      "version": "3.8.10"
    },
    "orig_nbformat": 4,
    "colab": {
      "provenance": [],
      "gpuType": "T4"
    },
    "accelerator": "GPU"
  },
  "nbformat": 4,
  "nbformat_minor": 0
}