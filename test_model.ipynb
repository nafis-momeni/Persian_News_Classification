{
  "cells": [
    {
      "cell_type": "code",
      "execution_count": 1,
      "metadata": {
        "colab": {
          "base_uri": "https://localhost:8080/",
          "height": 1000
        },
        "id": "7q76gaIK_d1Q",
        "outputId": "ae9bce76-fb7f-4ff6-daa0-a06e4bfe1657"
      },
      "outputs": [
        {
          "output_type": "stream",
          "name": "stdout",
          "text": [
            "Looking in indexes: https://pypi.org/simple, https://us-python.pkg.dev/colab-wheels/public/simple/\n",
            "Collecting transformers\n",
            "  Downloading transformers-4.30.2-py3-none-any.whl (7.2 MB)\n",
            "\u001b[2K     \u001b[90m━━━━━━━━━━━━━━━━━━━━━━━━━━━━━━━━━━━━━━━━\u001b[0m \u001b[32m7.2/7.2 MB\u001b[0m \u001b[31m104.5 MB/s\u001b[0m eta \u001b[36m0:00:00\u001b[0m\n",
            "\u001b[?25hCollecting accelerate\n",
            "  Downloading accelerate-0.20.3-py3-none-any.whl (227 kB)\n",
            "\u001b[2K     \u001b[90m━━━━━━━━━━━━━━━━━━━━━━━━━━━━━━━━━━━━━━\u001b[0m \u001b[32m227.6/227.6 kB\u001b[0m \u001b[31m23.6 MB/s\u001b[0m eta \u001b[36m0:00:00\u001b[0m\n",
            "\u001b[?25hCollecting hazm\n",
            "  Downloading hazm-0.9.0-py3-none-any.whl (477 kB)\n",
            "\u001b[2K     \u001b[90m━━━━━━━━━━━━━━━━━━━━━━━━━━━━━━━━━━━━━━\u001b[0m \u001b[32m477.8/477.8 kB\u001b[0m \u001b[31m46.8 MB/s\u001b[0m eta \u001b[36m0:00:00\u001b[0m\n",
            "\u001b[?25hRequirement already satisfied: filelock in /usr/local/lib/python3.10/dist-packages (from transformers) (3.12.2)\n",
            "Collecting huggingface-hub<1.0,>=0.14.1 (from transformers)\n",
            "  Downloading huggingface_hub-0.15.1-py3-none-any.whl (236 kB)\n",
            "\u001b[2K     \u001b[90m━━━━━━━━━━━━━━━━━━━━━━━━━━━━━━━━━━━━━━\u001b[0m \u001b[32m236.8/236.8 kB\u001b[0m \u001b[31m24.2 MB/s\u001b[0m eta \u001b[36m0:00:00\u001b[0m\n",
            "\u001b[?25hRequirement already satisfied: numpy>=1.17 in /usr/local/lib/python3.10/dist-packages (from transformers) (1.22.4)\n",
            "Requirement already satisfied: packaging>=20.0 in /usr/local/lib/python3.10/dist-packages (from transformers) (23.1)\n",
            "Requirement already satisfied: pyyaml>=5.1 in /usr/local/lib/python3.10/dist-packages (from transformers) (6.0)\n",
            "Requirement already satisfied: regex!=2019.12.17 in /usr/local/lib/python3.10/dist-packages (from transformers) (2022.10.31)\n",
            "Requirement already satisfied: requests in /usr/local/lib/python3.10/dist-packages (from transformers) (2.27.1)\n",
            "Collecting tokenizers!=0.11.3,<0.14,>=0.11.1 (from transformers)\n",
            "  Downloading tokenizers-0.13.3-cp310-cp310-manylinux_2_17_x86_64.manylinux2014_x86_64.whl (7.8 MB)\n",
            "\u001b[2K     \u001b[90m━━━━━━━━━━━━━━━━━━━━━━━━━━━━━━━━━━━━━━━━\u001b[0m \u001b[32m7.8/7.8 MB\u001b[0m \u001b[31m116.5 MB/s\u001b[0m eta \u001b[36m0:00:00\u001b[0m\n",
            "\u001b[?25hCollecting safetensors>=0.3.1 (from transformers)\n",
            "  Downloading safetensors-0.3.1-cp310-cp310-manylinux_2_17_x86_64.manylinux2014_x86_64.whl (1.3 MB)\n",
            "\u001b[2K     \u001b[90m━━━━━━━━━━━━━━━━━━━━━━━━━━━━━━━━━━━━━━━━\u001b[0m \u001b[32m1.3/1.3 MB\u001b[0m \u001b[31m77.9 MB/s\u001b[0m eta \u001b[36m0:00:00\u001b[0m\n",
            "\u001b[?25hRequirement already satisfied: tqdm>=4.27 in /usr/local/lib/python3.10/dist-packages (from transformers) (4.65.0)\n",
            "Requirement already satisfied: psutil in /usr/local/lib/python3.10/dist-packages (from accelerate) (5.9.5)\n",
            "Requirement already satisfied: torch>=1.6.0 in /usr/local/lib/python3.10/dist-packages (from accelerate) (2.0.1+cu118)\n",
            "Requirement already satisfied: gensim<5.0.0,>=4.3.1 in /usr/local/lib/python3.10/dist-packages (from hazm) (4.3.1)\n",
            "Requirement already satisfied: nltk<4.0.0,>=3.8.1 in /usr/local/lib/python3.10/dist-packages (from hazm) (3.8.1)\n",
            "Collecting numpy>=1.17 (from transformers)\n",
            "  Downloading numpy-1.25.0-cp310-cp310-manylinux_2_17_x86_64.manylinux2014_x86_64.whl (17.6 MB)\n",
            "\u001b[2K     \u001b[90m━━━━━━━━━━━━━━━━━━━━━━━━━━━━━━━━━━━━━━━━\u001b[0m \u001b[32m17.6/17.6 MB\u001b[0m \u001b[31m57.8 MB/s\u001b[0m eta \u001b[36m0:00:00\u001b[0m\n",
            "\u001b[?25hCollecting python-crfsuite<0.10.0,>=0.9.9 (from hazm)\n",
            "  Downloading python_crfsuite-0.9.9-cp310-cp310-manylinux_2_17_x86_64.manylinux2014_x86_64.whl (993 kB)\n",
            "\u001b[2K     \u001b[90m━━━━━━━━━━━━━━━━━━━━━━━━━━━━━━━━━━━━━━\u001b[0m \u001b[32m993.5/993.5 kB\u001b[0m \u001b[31m45.5 MB/s\u001b[0m eta \u001b[36m0:00:00\u001b[0m\n",
            "\u001b[?25hRequirement already satisfied: scikit-learn<2.0.0,>=1.2.2 in /usr/local/lib/python3.10/dist-packages (from hazm) (1.2.2)\n",
            "Requirement already satisfied: scipy>=1.7.0 in /usr/local/lib/python3.10/dist-packages (from gensim<5.0.0,>=4.3.1->hazm) (1.10.1)\n",
            "Requirement already satisfied: smart-open>=1.8.1 in /usr/local/lib/python3.10/dist-packages (from gensim<5.0.0,>=4.3.1->hazm) (6.3.0)\n",
            "Requirement already satisfied: fsspec in /usr/local/lib/python3.10/dist-packages (from huggingface-hub<1.0,>=0.14.1->transformers) (2023.6.0)\n",
            "Requirement already satisfied: typing-extensions>=3.7.4.3 in /usr/local/lib/python3.10/dist-packages (from huggingface-hub<1.0,>=0.14.1->transformers) (4.6.3)\n",
            "Requirement already satisfied: click in /usr/local/lib/python3.10/dist-packages (from nltk<4.0.0,>=3.8.1->hazm) (8.1.3)\n",
            "Requirement already satisfied: joblib in /usr/local/lib/python3.10/dist-packages (from nltk<4.0.0,>=3.8.1->hazm) (1.2.0)\n",
            "Requirement already satisfied: threadpoolctl>=2.0.0 in /usr/local/lib/python3.10/dist-packages (from scikit-learn<2.0.0,>=1.2.2->hazm) (3.1.0)\n",
            "Requirement already satisfied: sympy in /usr/local/lib/python3.10/dist-packages (from torch>=1.6.0->accelerate) (1.11.1)\n",
            "Requirement already satisfied: networkx in /usr/local/lib/python3.10/dist-packages (from torch>=1.6.0->accelerate) (3.1)\n",
            "Requirement already satisfied: jinja2 in /usr/local/lib/python3.10/dist-packages (from torch>=1.6.0->accelerate) (3.1.2)\n",
            "Requirement already satisfied: triton==2.0.0 in /usr/local/lib/python3.10/dist-packages (from torch>=1.6.0->accelerate) (2.0.0)\n",
            "Requirement already satisfied: cmake in /usr/local/lib/python3.10/dist-packages (from triton==2.0.0->torch>=1.6.0->accelerate) (3.25.2)\n",
            "Requirement already satisfied: lit in /usr/local/lib/python3.10/dist-packages (from triton==2.0.0->torch>=1.6.0->accelerate) (16.0.6)\n",
            "Requirement already satisfied: urllib3<1.27,>=1.21.1 in /usr/local/lib/python3.10/dist-packages (from requests->transformers) (1.26.16)\n",
            "Requirement already satisfied: certifi>=2017.4.17 in /usr/local/lib/python3.10/dist-packages (from requests->transformers) (2023.5.7)\n",
            "Requirement already satisfied: charset-normalizer~=2.0.0 in /usr/local/lib/python3.10/dist-packages (from requests->transformers) (2.0.12)\n",
            "Requirement already satisfied: idna<4,>=2.5 in /usr/local/lib/python3.10/dist-packages (from requests->transformers) (3.4)\n",
            "Requirement already satisfied: MarkupSafe>=2.0 in /usr/local/lib/python3.10/dist-packages (from jinja2->torch>=1.6.0->accelerate) (2.1.3)\n",
            "Requirement already satisfied: mpmath>=0.19 in /usr/local/lib/python3.10/dist-packages (from sympy->torch>=1.6.0->accelerate) (1.3.0)\n",
            "Installing collected packages: tokenizers, safetensors, python-crfsuite, numpy, huggingface-hub, transformers, hazm, accelerate\n",
            "  Attempting uninstall: numpy\n",
            "    Found existing installation: numpy 1.22.4\n",
            "    Uninstalling numpy-1.22.4:\n",
            "      Successfully uninstalled numpy-1.22.4\n",
            "\u001b[31mERROR: pip's dependency resolver does not currently take into account all the packages that are installed. This behaviour is the source of the following dependency conflicts.\n",
            "numba 0.56.4 requires numpy<1.24,>=1.18, but you have numpy 1.25.0 which is incompatible.\n",
            "tensorflow 2.12.0 requires numpy<1.24,>=1.22, but you have numpy 1.25.0 which is incompatible.\u001b[0m\u001b[31m\n",
            "\u001b[0mSuccessfully installed accelerate-0.20.3 hazm-0.9.0 huggingface-hub-0.15.1 numpy-1.25.0 python-crfsuite-0.9.9 safetensors-0.3.1 tokenizers-0.13.3 transformers-4.30.2\n"
          ]
        },
        {
          "output_type": "display_data",
          "data": {
            "application/vnd.colab-display-data+json": {
              "pip_warning": {
                "packages": [
                  "numpy"
                ]
              }
            }
          },
          "metadata": {}
        }
      ],
      "source": [
        "pip install transformers accelerate -U hazm"
      ]
    },
    {
      "cell_type": "code",
      "execution_count": 11,
      "metadata": {
        "id": "HNIkRpze_ZD9"
      },
      "outputs": [],
      "source": [
        "from transformers import AutoTokenizer, AutoModelForSequenceClassification\n",
        "import torch\n",
        "import numpy as np\n",
        "from hazm import Normalizer, word_tokenize"
      ]
    },
    {
      "cell_type": "code",
      "execution_count": 12,
      "metadata": {
        "id": "Nz7vglyp_ZEA"
      },
      "outputs": [],
      "source": [
        "normalizer = Normalizer()\n",
        "\n",
        "def tokenize_texts(tokenizer, texts):\n",
        "    normalized_texts = [normalizer.normalize(text) for text in texts]\n",
        "    encodings = tokenizer(texts, truncation=True, padding=True, max_length=128)\n",
        "    return encodings"
      ]
    },
    {
      "cell_type": "code",
      "execution_count": 13,
      "metadata": {
        "colab": {
          "base_uri": "https://localhost:8080/"
        },
        "id": "R0VM4Il7APvW",
        "outputId": "6ceedecb-ce44-4ecd-e2ba-d6913b1750fe"
      },
      "outputs": [
        {
          "output_type": "stream",
          "name": "stdout",
          "text": [
            "Drive already mounted at /content/drive; to attempt to forcibly remount, call drive.mount(\"/content/drive\", force_remount=True).\n"
          ]
        }
      ],
      "source": [
        "from google.colab import drive\n",
        "drive.mount('/content/drive')"
      ]
    },
    {
      "cell_type": "code",
      "execution_count": 14,
      "metadata": {
        "id": "WdKn4TYw_ZEC"
      },
      "outputs": [],
      "source": [
        "model_path = \"/content/drive/MyDrive/IRproject/saved_model2\"\n",
        "tokenizer = AutoTokenizer.from_pretrained(model_path)\n",
        "model = AutoModelForSequenceClassification.from_pretrained(model_path)"
      ]
    },
    {
      "cell_type": "code",
      "execution_count": 17,
      "metadata": {
        "id": "sYZ-9I1H6X1q"
      },
      "outputs": [],
      "source": [
        "# List of texts to classify\n",
        "texts = [\n",
        "    '''\n",
        "    به گزارش قدس انلاین، «ترکی الفیصل» شاهزاده سعودی و رییس پیشین دستگاه اطلاعاتی این کشور گفت که سعودی ها به شدت از رفتار ایالات متحده سرخورده شده اند.\n",
        "\n",
        "الفیصل در مصاحبه با پایگاه خبری «عرب نیوز» گفت که سعودیها احساس می کنند امریکا انان را تنها گذاشته است و معتقدند که واشنگتن باید همراه با عربستان، با انچه ان را تهدیدات منطقه خلیج فارس می نامد، مقابله کند.\n",
        "\n",
        "وی با این ادعا که این تهدید، «نفوذ ایران در منطقه» است، مدعی شد، ایران نه تنها از «حوثیها» (انصارالله) به عنوان ابزاری «برای بر هم زدن ثبات عربستان سعودی استفاده می کند، بلکه از انها برای تاثیر گذاشتن بر امنیت و ثبات گذرگاههای دریایی بین المللی در طول دریای سرخ و خلیج فارس استفاده می کند».\n",
        "\n",
        "بر خلاف این ادعا، کارشناسان تاکید دارند که امریکاییها با کمک سعودیها به بهانه مبارزه با دزدی دریایی و قاچاق سلاح، حضور خود را در دریای سرخ و تنگه باب المندب افزایش داده اند؛ اقدامی که امریکا از این طریق، به دنبال شکست اتش بس در یمن است.\n",
        "\n",
        "این شاهزاده سعودی همچنین مدعی شد که حذف نام انصارالله از لیست موسوم به گروههای تروریستی، باعث شده است که حملات این جنبش به عربستان و امارات بیشتر شود. این در حالی است که مقامات یمن بارها تاکید کرده اند که این حملات، پاسخی به هشت سال جنایت ایتلاف سعودی در این کشور است.\n",
        "\n",
        "الفیصل ادامه داد: «[جو بایدن] رییس جمهور امریکا در کمپین انتخاباتی خود گفت که عربستان سعودی را کنار خواهد گذاشت و طبیعتا با توقف عملیات مشترکی که امریکا و عربستان برای مقابله با حوثیها در یمن داشتند، به وعده خود عمل کرد».\n",
        "\n",
        "وی با بیان اینکه بایدن همچنین گفته بود که با محمد بن سلمان ولیعهد سعودی دیدار نخواهد کرد، ادعا کرد، عربستان سعودی از مدتها پیش خواستار حل مسالمت امیز جنگ یمن است، ولی انصارالله با این مسیله موافقت نمی کند.\n",
        "\n",
        "این ادعا در حالی مطرح شده است که با وجود گذشت چندین روز از اتش بس، ایتلاف سعودی اجازه ورود کشتیهای حامل سوخت به یمن را نمی دهد و از پرواز به فرودگاه صنعا جلوگیری می کند.\n",
        "\n",
        "در همین ارتباط، جنبش انصارالله یمن بیست و ششم فروردین ماه جاری از افزایش تنش ها توسط امریکا در دریای سرخ، هم زمان با اجرای اتش بس سازمان ملل در این کشور انتقاد کرد.\n",
        "\n",
        "«محمد عبدالسلام» سخنگوی رسمی این جنبش تاکید کرد: «تحرکات امریکایی در دریای سرخ و در سایه اتش بس انسانی و نظامی در یمن با ادعای واشنگتن درباره حمایت از اتش بس تناقض دارد؛ چرا که این تحرکات به دنبال تقویت وضعیت های جنگ و محاصره علیه یمن هستند».\n",
        "\n",
        "این در حالی است که اوایل اوریل «هانس گروندبرگ» فرستاده ویژه سازمان ملل در یمن اغاز اتش بس و توقف عملیات های نظامی در این کشور را اعلام کرده بود؛ اتش بسی که شامل تمام عملیات های هوایی، زمینی و دریایی [چه در داخل یمن و چه در مرزهای خارجی ان] می شود.\n",
        "\n",
        "بر خلاف انچه ایتلاف متجاوز سعودی_اماراتی ادعا می کند، این ایتلاف به هیچ وجه به اتش بس پایبند نیست؛ حتی شامگاه گذشته نیز عبدالسلام خبر داد که از زمان اجرایی شدن اتش بس، ایتلاف متجاوز اجازه نمی دهد هیچ هواپیمایی وارد صنعا شود و از ورود کشتیهای حامل سوخت به بندرگاه الحدیده جلوگیری می کند\n",
        "    ''',\n",
        "    '''\n",
        "    از کارگران معاونت فرهنگی و دانشجویی قدردانی شد  به گزارش مفداابادان، در تاریخ 11اردیبهشت 1401 با حضور سعیدجلوای معاون فرهنگی و دانشجویی و مدیران این معاونت از کارگران شاغل در خدمات و تاسیسات، فضای سبز و واحدنقلیه نقلیه قدردانی شد. دوشنبه 12 اردیبهشت 1401 _ 18:12 شناسه خبر: 53848402 _ سرویس عکس\n",
        " نسخه قابل چاپ منبع: مفدا | لینک خبر از کارگران معاونت فرهنگی و دانشجویی قدردانی شد به گزارش مفداابادان، در تاریخ 11اردیبهشت 1401 با حضور سعیدجلوای معاون فرهنگی و دانشجویی و مدیران این معاونت از کارگران شاغل در خدمات و تاسیسات، فضای سبز و واحدنقلیه نقلیه قدردانی شد.\n",
        "    ''',\n",
        "    '''\n",
        "    \"normed_whole_content\" : \"\"\"عمل جراحی سرمربی تیم ملی در کرواسی/ اسکوچیچ زیر تیغ رفت  سرمربی تیم ملی فوتبال کشورمان که برای گذراندن تعطیلات به کرواسی بازگشته، یک جراحی موفقیت امیز را پشت سر گذاشت. مجموع نظرات: 0  صفحه اصلی بخش های دیگر اخبار چهره ها 0 نفر  دوشنبه 12 اردیبهشت 1401 _ 18:16 عمل جراحی سرمربی تیم ملی در کرواسی/ اسکوچیچ زیر تیغ رفت\n",
        "سرمربی تیم ملی فوتبال کشورمان که برای گذراندن تعطیلات به کرواسی بازگشته، یک جراحی موفقیت امیز را پشت سر گذاشت.\n",
        " خبرورزشی _\n",
        "دراگان اسکوچیچ پس از قرعه کشی دیدارهای تیم ملی در جام جهانی، برای دیدار با خانواده به کشورش بازگشت. وی در این اقامت، یک جراحی موفقیت امیز را نیز پشت سر گذاشت.\n",
        "\n",
        "سرمربی تیم ملی با عارضه گوارشی مواجه بود که با این جراحی موفقیت امیز این مشکل درمان شد. دوره نقاهت اسکوچیچ چند روزه بوده و سرمربی تیم ملی هم اکنون مشکلی ندارد.\n",
        " کد خبر: 359537  0 نفر  برچسب ها دراگان اسکوچیچ برگزیده ها دلیل سکوت علی دایی در اینستاگرام چیست؟/ بی تفاوتی به پیغام ماتیوس و اخرین پست برای خانم های ایرانی! حمله شدید به سرمربی شباب الاهلی؛ تو ستاره استقلال را نابودی کردی! سند پیکان علیه پرسپولیس/ جای استوک های امید عالیشاه را ببینید! عکس| دلیل خوشحالی مدافع گلزن استقلال مشخص شد/ رمزگشایی از اعداد 3 و 4! قابل توجه فدراسیون فوتبال ایران؛ 3 بازی تدارکاتی مهم کره جنوبی مشخص شد خبرویژه دلیل سکوت علی دایی در اینستاگرام چیست؟/ بی تفاوتی به پیغام ماتیوس و اخرین پست برای خانم های ایرانی! اعتراف بزرگ رشید مظاهری؛ ببخشید کلاس سپاهان را پایین اوردم!/ حالا یک مربی هم از من خوشش نیاید! فرهاد مجیدی به رشید مظاهری طعنه زد؟ ملی پوش سپاهان استارت اشتی با استقلالی ها را قبل از بازی زد! تماس تلفنی بازیکنان سابق استقلال با گلزن این تیم پربازدیدترین برنامه پخش زنده فوتبال و مسابقات ورزشی امروز انقدر در لیگ ایران خودم را نشان می دهم تا در لالیگا سرمربی شوم/ خیلی از بازیکنان لیاقت حضور در جام جهانی را ندارند/ از 18 سالگی در تیم ملی تنها بودم! تکلیف یک لژیونر دیگر مد نظر پرسپولیس هم مشخص شد/ هرگز به ایران برنمی گردم عکس| امیر قلعه نویی بر سر مزار مطرح ترین پرسپولیسی تاریخ دربی حمله شدید به سرمربی شباب الاهلی؛ تو ستاره استقلال را نابودی کردی! گام بلند استقلال برای قهرمانی/ خوشحالی پنهان فرهاد مجیدی را هیچ کس ندید! عکس| کری خوانی عجیب بازیکن جنجالی استقلال با رنگ قرمز/ گلر ملی پوش به پرسپولیس چراغ سبز نشان داد؟ اولین اخراجی پرسپولیس مشخص شد عکس| گاف ستاره پرسپولیس بعد از بازی مقابل پیکان بازیکن پرسپولیس فقط از نظر چهره شبیه استیلی است و فوتبال بلد نیست/ سبک بازی یک بازیکن در شان این تیم نیست! نظر شما شما در حال پاسخ به نظر «» هستید. نام ایمیل نظر شما * * لطفا حاصل عبارت را در جعبه متن روبرو وارد کنید 3 + 1 = topic[id:129، title:اخبار چهره ها] _  []  topic[id:129، title:اخبار چهره ها] _  []  topic[id:129، title:اخبار چهره ها] _  []  تعمیر کرکره برقی دانلود فیلم جدید بلیط هواپیما انلاین دستگاه تصفیه هوا رزرو هتل topic[id:129، title:اخبار چهره ها] _  []  topic[id:129، title:اخبار چهره ها] _  []  پربازدیدترین برنامه پخش زنده فوتبال و مسابقات ورزشی امروز انقدر در لیگ ایران خودم را نشان می دهم تا در لالیگا سرمربی شوم/ خیلی از بازیکنان لیاقت حضور در جام جهانی را ندارند/ از 18 سالگی در تیم ملی تنها بودم! تکلیف یک لژیونر دیگر مد نظر پرسپولیس هم مشخص شد/ هرگز به ایران برنمی گردم عکس| امیر قلعه نویی بر سر مزار مطرح ترین پرسپولیسی تاریخ دربی حمله شدید به سرمربی شباب الاهلی؛ تو ستاره استقلال را نابودی کردی! گام بلند استقلال برای قهرمانی/ خوشحالی پنهان فرهاد مجیدی را هیچ کس ندید! عکس| کری خوانی عجیب بازیکن جنجالی استقلال با رنگ قرمز/ گلر ملی پوش به پرسپولیس چراغ سبز نشان داد؟ اولین اخراجی پرسپولیس مشخص شد عکس| گاف ستاره پرسپولیس بعد از بازی مقابل پیکان بازیکن پرسپولیس فقط از نظر چهره شبیه استیلی است و فوتبال بلد نیست/ سبک بازی یک بازیکن در شان این تیم نیست! topic[id:129، title:اخبار چهره ها] _  []  topic[id:129، title:اخبار چهره ها] _  []  اخرین خبر این بهترین خبر برای استقلال بود/ بازی با شهرخودرو از سپاهان هم سخت تر است/ ما حریف عشق و علاقه مردم نشدیم 55 میلیارد تومان چه زمانی به فدراسیون فوتبال می رسد؟ دلیل سکوت علی دایی در اینستاگرام چیست؟/ بی تفاوتی به پیغام ماتیوس و اخرین پست برای خانم های ایرانی! اعتراف بزرگ رشید مظاهری؛ ببخشید کلاس سپاهان را پایین اوردم!/ حالا یک مربی هم از من خوشش نیاید! فرهاد مجیدی به رشید مظاهری طعنه زد؟ ملی پوش سپاهان استارت اشتی با استقلالی ها را قبل از بازی زد!\n",
        "    ''',\n",
        "\n",
        "]"
      ]
    },
    {
      "cell_type": "code",
      "execution_count": 18,
      "metadata": {
        "colab": {
          "base_uri": "https://localhost:8080/"
        },
        "id": "pu8e6vwdcySR",
        "outputId": "47118bea-0f81-48bd-94b3-277e5d6665c5"
      },
      "outputs": [
        {
          "output_type": "stream",
          "name": "stdout",
          "text": [
            "Predicted Class: Beinolmelal\n",
            "\n",
            "Predicted Class: ElmiVaDaneshghai\n",
            "\n",
            "Predicted Class: Varzeshi\n",
            "\n"
          ]
        }
      ],
      "source": [
        "\n",
        "\n",
        "\n",
        "# Tokenize the texts\n",
        "encodings = tokenizer(texts, truncation=True, padding=True, max_length=128, return_tensors='pt')\n",
        "\n",
        "# Move the input tensors to the device (GPU if available)\n",
        "device = torch.device(\"cuda\" if torch.cuda.is_available() else \"cpu\")\n",
        "input_ids = encodings[\"input_ids\"].to(device)\n",
        "attention_mask = encodings[\"attention_mask\"].to(device)\n",
        "\n",
        "model.to(device)\n",
        "\n",
        "# Make predictions\n",
        "with torch.no_grad():\n",
        "    outputs = model(input_ids=input_ids, attention_mask=attention_mask)\n",
        "\n",
        "# Move the logits to the CPU and convert to NumPy array\n",
        "logits = outputs.logits.detach().cpu().numpy()\n",
        "\n",
        "# Get the predicted class labels\n",
        "predicted_labels = np.argmax(logits, axis=1)\n",
        "\n",
        "# Map the predicted labels to class names\n",
        "class_names = ['Beinolmelal', 'Eghtesadi', 'Ejtemaee', 'ElmiVaDaneshghai', 'FarhangHonarVaResane', 'Siasi', 'Varzeshi']\n",
        "predicted_classes = [class_names[label] for label in predicted_labels]\n",
        "\n",
        "# Print the results\n",
        "for text, predicted_class in zip(texts, predicted_classes):\n",
        "    print(f\"Predicted Class: {predicted_class}\")\n",
        "    print()\n"
      ]
    }
  ],
  "metadata": {
    "colab": {
      "gpuType": "T4",
      "provenance": []
    },
    "kernelspec": {
      "display_name": "Python 3",
      "name": "python3"
    },
    "language_info": {
      "codemirror_mode": {
        "name": "ipython",
        "version": 3
      },
      "file_extension": ".py",
      "mimetype": "text/x-python",
      "name": "python",
      "nbconvert_exporter": "python",
      "pygments_lexer": "ipython3",
      "version": "3.8.10"
    },
    "orig_nbformat": 4
  },
  "nbformat": 4,
  "nbformat_minor": 0
}