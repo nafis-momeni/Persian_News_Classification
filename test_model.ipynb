{
  "cells": [
    {
      "cell_type": "code",
      "source": [
        "pip install transformers accelerate -U"
      ],
      "metadata": {
        "colab": {
          "base_uri": "https://localhost:8080/"
        },
        "id": "7q76gaIK_d1Q",
        "outputId": "176f54f7-8d86-4114-e3e8-3e879c5bfb97"
      },
      "execution_count": 1,
      "outputs": [
        {
          "output_type": "stream",
          "name": "stdout",
          "text": [
            "Looking in indexes: https://pypi.org/simple, https://us-python.pkg.dev/colab-wheels/public/simple/\n",
            "Collecting transformers\n",
            "  Downloading transformers-4.30.2-py3-none-any.whl (7.2 MB)\n",
            "\u001b[2K     \u001b[90m━━━━━━━━━━━━━━━━━━━━━━━━━━━━━━━━━━━━━━━━\u001b[0m \u001b[32m7.2/7.2 MB\u001b[0m \u001b[31m46.7 MB/s\u001b[0m eta \u001b[36m0:00:00\u001b[0m\n",
            "\u001b[?25hCollecting accelerate\n",
            "  Downloading accelerate-0.20.3-py3-none-any.whl (227 kB)\n",
            "\u001b[2K     \u001b[90m━━━━━━━━━━━━━━━━━━━━━━━━━━━━━━━━━━━━━━━\u001b[0m \u001b[32m227.6/227.6 kB\u001b[0m \u001b[31m9.0 MB/s\u001b[0m eta \u001b[36m0:00:00\u001b[0m\n",
            "\u001b[?25hRequirement already satisfied: filelock in /usr/local/lib/python3.10/dist-packages (from transformers) (3.12.2)\n",
            "Collecting huggingface-hub<1.0,>=0.14.1 (from transformers)\n",
            "  Downloading huggingface_hub-0.15.1-py3-none-any.whl (236 kB)\n",
            "\u001b[2K     \u001b[90m━━━━━━━━━━━━━━━━━━━━━━━━━━━━━━━━━━━━━━\u001b[0m \u001b[32m236.8/236.8 kB\u001b[0m \u001b[31m23.0 MB/s\u001b[0m eta \u001b[36m0:00:00\u001b[0m\n",
            "\u001b[?25hRequirement already satisfied: numpy>=1.17 in /usr/local/lib/python3.10/dist-packages (from transformers) (1.22.4)\n",
            "Requirement already satisfied: packaging>=20.0 in /usr/local/lib/python3.10/dist-packages (from transformers) (23.1)\n",
            "Requirement already satisfied: pyyaml>=5.1 in /usr/local/lib/python3.10/dist-packages (from transformers) (6.0)\n",
            "Requirement already satisfied: regex!=2019.12.17 in /usr/local/lib/python3.10/dist-packages (from transformers) (2022.10.31)\n",
            "Requirement already satisfied: requests in /usr/local/lib/python3.10/dist-packages (from transformers) (2.27.1)\n",
            "Collecting tokenizers!=0.11.3,<0.14,>=0.11.1 (from transformers)\n",
            "  Downloading tokenizers-0.13.3-cp310-cp310-manylinux_2_17_x86_64.manylinux2014_x86_64.whl (7.8 MB)\n",
            "\u001b[2K     \u001b[90m━━━━━━━━━━━━━━━━━━━━━━━━━━━━━━━━━━━━━━━━\u001b[0m \u001b[32m7.8/7.8 MB\u001b[0m \u001b[31m45.1 MB/s\u001b[0m eta \u001b[36m0:00:00\u001b[0m\n",
            "\u001b[?25hCollecting safetensors>=0.3.1 (from transformers)\n",
            "  Downloading safetensors-0.3.1-cp310-cp310-manylinux_2_17_x86_64.manylinux2014_x86_64.whl (1.3 MB)\n",
            "\u001b[2K     \u001b[90m━━━━━━━━━━━━━━━━━━━━━━━━━━━━━━━━━━━━━━━━\u001b[0m \u001b[32m1.3/1.3 MB\u001b[0m \u001b[31m24.7 MB/s\u001b[0m eta \u001b[36m0:00:00\u001b[0m\n",
            "\u001b[?25hRequirement already satisfied: tqdm>=4.27 in /usr/local/lib/python3.10/dist-packages (from transformers) (4.65.0)\n",
            "Requirement already satisfied: psutil in /usr/local/lib/python3.10/dist-packages (from accelerate) (5.9.5)\n",
            "Requirement already satisfied: torch>=1.6.0 in /usr/local/lib/python3.10/dist-packages (from accelerate) (2.0.1+cu118)\n",
            "Requirement already satisfied: fsspec in /usr/local/lib/python3.10/dist-packages (from huggingface-hub<1.0,>=0.14.1->transformers) (2023.6.0)\n",
            "Requirement already satisfied: typing-extensions>=3.7.4.3 in /usr/local/lib/python3.10/dist-packages (from huggingface-hub<1.0,>=0.14.1->transformers) (4.6.3)\n",
            "Requirement already satisfied: sympy in /usr/local/lib/python3.10/dist-packages (from torch>=1.6.0->accelerate) (1.11.1)\n",
            "Requirement already satisfied: networkx in /usr/local/lib/python3.10/dist-packages (from torch>=1.6.0->accelerate) (3.1)\n",
            "Requirement already satisfied: jinja2 in /usr/local/lib/python3.10/dist-packages (from torch>=1.6.0->accelerate) (3.1.2)\n",
            "Requirement already satisfied: triton==2.0.0 in /usr/local/lib/python3.10/dist-packages (from torch>=1.6.0->accelerate) (2.0.0)\n",
            "Requirement already satisfied: cmake in /usr/local/lib/python3.10/dist-packages (from triton==2.0.0->torch>=1.6.0->accelerate) (3.25.2)\n",
            "Requirement already satisfied: lit in /usr/local/lib/python3.10/dist-packages (from triton==2.0.0->torch>=1.6.0->accelerate) (16.0.6)\n",
            "Requirement already satisfied: urllib3<1.27,>=1.21.1 in /usr/local/lib/python3.10/dist-packages (from requests->transformers) (1.26.16)\n",
            "Requirement already satisfied: certifi>=2017.4.17 in /usr/local/lib/python3.10/dist-packages (from requests->transformers) (2023.5.7)\n",
            "Requirement already satisfied: charset-normalizer~=2.0.0 in /usr/local/lib/python3.10/dist-packages (from requests->transformers) (2.0.12)\n",
            "Requirement already satisfied: idna<4,>=2.5 in /usr/local/lib/python3.10/dist-packages (from requests->transformers) (3.4)\n",
            "Requirement already satisfied: MarkupSafe>=2.0 in /usr/local/lib/python3.10/dist-packages (from jinja2->torch>=1.6.0->accelerate) (2.1.3)\n",
            "Requirement already satisfied: mpmath>=0.19 in /usr/local/lib/python3.10/dist-packages (from sympy->torch>=1.6.0->accelerate) (1.3.0)\n",
            "Installing collected packages: tokenizers, safetensors, huggingface-hub, transformers, accelerate\n",
            "Successfully installed accelerate-0.20.3 huggingface-hub-0.15.1 safetensors-0.3.1 tokenizers-0.13.3 transformers-4.30.2\n"
          ]
        }
      ]
    },
    {
      "cell_type": "code",
      "execution_count": 2,
      "metadata": {
        "id": "HNIkRpze_ZD9"
      },
      "outputs": [],
      "source": [
        "from sklearn.metrics import  accuracy_score, f1_score, confusion_matrix\n",
        "from transformers import AutoTokenizer, AutoModelForSequenceClassification, Trainer, TrainingArguments, EarlyStoppingCallback\n",
        "import torch\n",
        "import pandas as pd\n",
        "import numpy as np"
      ]
    },
    {
      "cell_type": "code",
      "execution_count": 3,
      "metadata": {
        "id": "Nz7vglyp_ZEA"
      },
      "outputs": [],
      "source": [
        "def tokenize_texts(tokenizer, texts):\n",
        "    encodings = tokenizer(texts, truncation=True, padding=True, max_length=128)\n",
        "    return encodings\n"
      ]
    },
    {
      "cell_type": "code",
      "source": [
        "from google.colab import drive\n",
        "drive.mount('/content/drive')"
      ],
      "metadata": {
        "colab": {
          "base_uri": "https://localhost:8080/"
        },
        "id": "R0VM4Il7APvW",
        "outputId": "433ff227-de01-434e-9ce4-d3047635fc9e"
      },
      "execution_count": 4,
      "outputs": [
        {
          "output_type": "stream",
          "name": "stdout",
          "text": [
            "Mounted at /content/drive\n"
          ]
        }
      ]
    },
    {
      "cell_type": "code",
      "execution_count": 5,
      "metadata": {
        "id": "WdKn4TYw_ZEC"
      },
      "outputs": [],
      "source": [
        "model_path = \"/content/drive/MyDrive/IRproject/saved_model\"\n",
        "tokenizer = AutoTokenizer.from_pretrained(model_path)\n",
        "model = AutoModelForSequenceClassification.from_pretrained(model_path)"
      ]
    },
    {
      "cell_type": "code",
      "source": [
        "\n",
        "\n",
        "# List of texts to classify\n",
        "texts = [\n",
        "    '''\n",
        "    به گزارش \"ورزش سه\"، تیم ملی والیبال ایران دیروز برای حضور در لیگ ملت های 2021 از طریق دوحه راهی کشور ایتالیا شد، اما در همین فرودگاه امام خمینی تهران اتفاقات عجیبی برای سرپرست تیم ملی رخ داد.\n",
        "\n",
        "\n",
        " ماجرا از این قرار بود که امیر خوش خبر به خاطر سفر طولانی مدت تیم ملی مبالغ ارزی زیادی را با خود حمل می کرد. گویا سرپرست تیم ملی مجوزی هم از بانک مرکزی نداشته و به همین خاطر با سخت گیری ماموران مواجه شده است.\n",
        "\n",
        "\n",
        " میثم جعفری، مدیر تشریفات فدراسیون والیبال در این باره می گوید: «متاسفانه به دلیل برخی ناهماهنگی ها و البته تاخیر بانک مرکزی مجوزهای لازم به دست خوش خبر نرسید و به همین دلیل ماموران مانع خروج وی از کشور شدند. پس از رایزنی های طولانی سرانجام مقرر شد تا من به عنوان نماینده فدراسیون و جایگزین امیر خوش خبر در فرودگاه بمانم تا سرپرست تیم ملی بتواند همراه با تیم به ایتالیا سفر کند.»\n",
        "\n",
        "\n",
        " البته که در نهایت خیلی از این یوروها در تهران ماند و خوش خبر با مبلغ کمتری به ایتالیا رفت. البته فدراسیون والیبال در تلاش است تا با کسب مجوز لازم، طی روزهای اینده مابقی مبلغ به ایتالیا منتقل شود.\n",
        "\n",
        "    ''',\n",
        "    '''\n",
        "    تصاویر| زخم ناسور زباله بر گونه سبز روستای کشل ازادسرا خودنمایی کوه زباله در روستای سرسبز «کشل ازادسرا» استانه اشرفیه به عنوان زخمی چرکین بر چهره سرسبز این روستا، ساکنان ان را با مشکلات عدیده ای مواجه ساخته است. افتاب نیوز :\n",
        "روستای کشل ازادسرا استانه اشرفیه در گیلان این روزها با زخمی چرکین بر چهره طبیعت بکر خود دست و پنجه نرم می کند و ساکنان این روستای گردشگر پذیر را با مشکلات عدیده ای مواجه ساخته و مردم منطقه همچنان در انتظار توجه ویژه مسیولان به این روستا هستند.\n",
        "\n",
        "    '''\n",
        "]\n",
        "\n",
        "# Tokenize the texts\n",
        "encodings = tokenizer(texts, truncation=True, padding=True, max_length=128, return_tensors='pt')\n",
        "\n",
        "# Move the input tensors to the device (GPU if available)\n",
        "device = torch.device(\"cuda\" if torch.cuda.is_available() else \"cpu\")\n",
        "input_ids = encodings[\"input_ids\"].to(device)\n",
        "attention_mask = encodings[\"attention_mask\"].to(device)\n",
        "\n",
        "model.to(device)\n",
        "\n",
        "# Make predictions\n",
        "with torch.no_grad():\n",
        "    outputs = model(input_ids=input_ids, attention_mask=attention_mask)\n",
        "\n",
        "# Move the logits to the CPU and convert to NumPy array\n",
        "logits = outputs.logits.detach().cpu().numpy()\n",
        "\n",
        "# Get the predicted class labels\n",
        "predicted_labels = np.argmax(logits, axis=1)\n",
        "\n",
        "# Map the predicted labels to class names\n",
        "class_names = ['Beinolmelal', 'Eghtesadi', 'Ejtemaee', 'ElmiVaDaneshghai', 'FarhangHonarVaResane', 'Siasi', 'Varzeshi']\n",
        "predicted_classes = [class_names[label] for label in predicted_labels]\n",
        "\n",
        "# Print the results\n",
        "for text, predicted_class in zip(texts, predicted_classes):\n",
        "    # print(f\"Text: {text}\")\n",
        "    print(f\"Predicted Class: {predicted_class}\")\n",
        "    print()\n"
      ],
      "metadata": {
        "colab": {
          "base_uri": "https://localhost:8080/"
        },
        "id": "pu8e6vwdcySR",
        "outputId": "327fec16-8cdd-4b3c-b1bd-51c352f23e5b"
      },
      "execution_count": 6,
      "outputs": [
        {
          "output_type": "stream",
          "name": "stdout",
          "text": [
            "Predicted Class: Varzeshi\n",
            "\n",
            "Predicted Class: Ejtemaee\n",
            "\n"
          ]
        }
      ]
    }
  ],
  "metadata": {
    "language_info": {
      "name": "python"
    },
    "orig_nbformat": 4,
    "colab": {
      "provenance": [],
      "gpuType": "T4"
    },
    "kernelspec": {
      "name": "python3",
      "display_name": "Python 3"
    }
  },
  "nbformat": 4,
  "nbformat_minor": 0
}